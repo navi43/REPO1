{
  "cells": [
    {
      "cell_type": "markdown",
      "metadata": {
        "id": "tkRL7Tpv1r-q"
      },
      "source": [
        "# <center>Ficheros</center>\n",
        "\n",
        "En informática, un archivo o fichero también es un conjunto de información que se almacena en forma virtual para ser leído y/o accedido por medio de una computadora.\n",
        "Las posibilidades de almacenamiento y clasificación son mucho más ricas en un sistema informático, ya que la información no ocupa un espacio físico y, por ende, es posible conservar millones de datos en un dispositivo muy pequeño. Inclusive, se puede guardar información de texto, audio o video en un mismo lugar sin inconveniente alguno. (fuente: web)\n",
        "\n",
        "\n",
        "# <u><p style=\"color:DarkRed;\">Mi primer Fichero</p></u>\n",
        "\n",
        "**<p style=\"color:DarkOrange;\">Extensiones de archivos</p>**\n",
        "  - .txt\n",
        "  - .exe\n",
        "  - .doc\n",
        "\n",
        "**_<p style=\"color:DarkBlue;\">fichero = f</p>_**\n",
        "\n",
        "1) abrir fichero  ---> open()\n",
        "\n",
        "   - escribrir (write): open ('---.txt',**'w'**)\n",
        "   - leer (read): open ('---.txt',**'r'**)\n",
        "   - agregar/adicionar (add) : open ('---.txt',**'a'**)\n",
        "   \n",
        "2) leer fichero  ----> f.read()\n",
        "\n",
        "\n",
        "3) cerrar fichero ---> f.close()\n",
        "\n",
        "4) Imprimir fichero ----> print()"
      ]
    },
    {
      "cell_type": "code",
      "execution_count": 2,
      "metadata": {
        "id": "vEvtLoZP1r-v"
      },
      "outputs": [],
      "source": [
        "f = open('MP1.txt','w')\n",
        "frase= \"Hola mi nombre es: \\n Denise \\n Mucho gusto\"\n",
        "f.write(frase)\n",
        "f.close()"
      ]
    },
    {
      "cell_type": "code",
      "execution_count": 3,
      "metadata": {
        "colab": {
          "base_uri": "https://localhost:8080/"
        },
        "id": "pP9hSJBp1r-w",
        "outputId": "43460c28-a4a0-4cd1-9e42-c2ececc388c9"
      },
      "outputs": [
        {
          "output_type": "stream",
          "name": "stdout",
          "text": [
            "Hola mi nombre es: \n",
            " Denise \n",
            " Mucho gusto\n"
          ]
        }
      ],
      "source": [
        "f = open('MP1.txt','r')\n",
        "texto = f.read()\n",
        "f.close\n",
        "print(texto)"
      ]
    },
    {
      "cell_type": "code",
      "execution_count": 4,
      "metadata": {
        "colab": {
          "base_uri": "https://localhost:8080/"
        },
        "id": "sQ9vMkT-1r-y",
        "outputId": "9189177c-abc5-4d43-96d3-63f91ede7712"
      },
      "outputs": [
        {
          "output_type": "stream",
          "name": "stdout",
          "text": [
            "Hola mi nombre es: \n",
            " Denise \n",
            " Mucho gusto\n",
            " Que tenga un buen dia.\n"
          ]
        }
      ],
      "source": [
        "f = open('MP1.txt','a')\n",
        "f.write('\\n Que tenga un buen dia.')\n",
        "f.close()\n",
        "f = open('MP1.txt','r')\n",
        "texto2= f.read()\n",
        "f.close()\n",
        "print(texto2)"
      ]
    },
    {
      "cell_type": "markdown",
      "metadata": {
        "id": "SZhIeC521r-y"
      },
      "source": [
        "### Directorio de Trabajo:"
      ]
    },
    {
      "cell_type": "code",
      "execution_count": 5,
      "metadata": {
        "colab": {
          "base_uri": "https://localhost:8080/",
          "height": 35
        },
        "id": "VsIc4aHN1r-y",
        "outputId": "9291afab-4b25-44ed-8d8f-4d83edd9d42e"
      },
      "outputs": [
        {
          "output_type": "execute_result",
          "data": {
            "text/plain": [
              "'/content'"
            ],
            "application/vnd.google.colaboratory.intrinsic+json": {
              "type": "string"
            }
          },
          "metadata": {},
          "execution_count": 5
        }
      ],
      "source": [
        "pwd()"
      ]
    },
    {
      "cell_type": "markdown",
      "metadata": {
        "id": "-Ntn8XC71r-z"
      },
      "source": [
        "### Cambiar de directorio:  \n",
        "\n",
        "[guia](https://noviello.it/es/como-obtener-y-cambiar-el-directorio-de-trabajo-actual-en-python/)"
      ]
    }
  ],
  "metadata": {
    "kernelspec": {
      "display_name": "Python 3",
      "language": "python",
      "name": "python3"
    },
    "language_info": {
      "codemirror_mode": {
        "name": "ipython",
        "version": 3
      },
      "file_extension": ".py",
      "mimetype": "text/x-python",
      "name": "python",
      "nbconvert_exporter": "python",
      "pygments_lexer": "ipython3",
      "version": "3.7.6"
    },
    "colab": {
      "provenance": []
    }
  },
  "nbformat": 4,
  "nbformat_minor": 0
}