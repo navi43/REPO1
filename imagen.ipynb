{
 "cells": [
  {
   "cell_type": "markdown",
   "id": "c35b6f83",
   "metadata": {},
   "source": [
    "![Logo de GitHub](https://cdn-icons-png.flaticon.com/512/25/25231.png)\n"
   ]
  }
 ],
 "metadata": {
  "kernelspec": {
   "display_name": "Python 3 (ipykernel)",
   "language": "python",
   "name": "python3"
  },
  "language_info": {
   "codemirror_mode": {
    "name": "ipython",
    "version": 3
   },
   "file_extension": ".py",
   "mimetype": "text/x-python",
   "name": "python",
   "nbconvert_exporter": "python",
   "pygments_lexer": "ipython3",
   "version": "3.9.12"
  }
 },
 "nbformat": 4,
 "nbformat_minor": 5
}
